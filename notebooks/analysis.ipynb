{
 "cells": [
  {
   "cell_type": "markdown",
   "metadata": {},
   "source": [
    "# NYC Traffic Collision Analysis\n",
    "\n",
    "This notebook contains the detailed technical analysis of the NYC Motor Vehicle Collisions dataset."
   ]
  },
  {
   "cell_type": "markdown",
   "metadata": {},
   "source": [
    "## 1. Library Imports\n"
   ]
  },
  {
   "cell_type": "code",
   "execution_count": 12,
   "metadata": {},
   "outputs": [],
   "source": [
    "# Import necessary libraries\n",
    "import pandas as pd\n",
    "import numpy as np\n",
    "import matplotlib.pyplot as plt\n",
    "import seaborn as sns\n",
    "from datetime import datetime\n",
    "import folium\n",
    "from folium.plugins import HeatMap, MarkerCluster\n",
    "import plotly.express as px\n",
    "import plotly.graph_objects as go\n",
    "from plotly.subplots import make_subplots\n",
    "from sklearn.cluster import DBSCAN\n",
    "from sklearn.preprocessing import StandardScaler\n",
    "import os\n",
    "\n",
    "# Print available styles and use a valid one\n",
    "# print(\"Available styles:\", plt.style.available)\n",
    "plt.style.use('default')  # Use default style\n",
    "sns.set_palette('husl')\n",
    "pd.set_option('display.max_columns', None)"
   ]
  },
  {
   "cell_type": "markdown",
   "metadata": {},
   "source": [
    "## 2. Data Loading"
   ]
  },
  {
   "cell_type": "code",
   "execution_count": null,
   "metadata": {},
   "outputs": [],
   "source": [
    "# Load only necessary columns to reduce memory usage\n",
    "columns_to_load = [\n",
    "    'CRASH DATE', 'CRASH TIME', 'BOROUGH', 'LATITUDE', 'LONGITUDE',\n",
    "    'NUMBER OF PERSONS INJURED', 'NUMBER OF PERSONS KILLED',\n",
    "    'VEHICLE TYPE CODE 1', 'VEHICLE TYPE CODE 2',\n",
    "    'CONTRIBUTING FACTOR VEHICLE 1', 'CONTRIBUTING FACTOR VEHICLE 2'\n",
    "]\n",
    "\n",
    "# Define safe data types without integers\n",
    "safe_dtypes = {\n",
    "    'BOROUGH': 'category',\n",
    "    'VEHICLE TYPE CODE 1': 'category',\n",
    "    'VEHICLE TYPE CODE 2': 'category',\n",
    "    'CONTRIBUTING FACTOR VEHICLE 1': 'category',\n",
    "    'CONTRIBUTING FACTOR VEHICLE 2': 'category',\n",
    "    'LATITUDE': 'float32',\n",
    "    'LONGITUDE': 'float32'\n",
    "}\n",
    "\n",
    "# Check if file exists and load or create sample data\n",
    "file_path = '../Motor_Vehicle_Collisions_-_Crashes_20250512.csv'\n",
    "if not os.path.exists(file_path):\n",
    "    print(f\"File not found: {file_path}\")\n",
    "    print(\"Current directory:\", os.getcwd())\n",
    "    print(\"Parent directory contents:\", os.listdir('..'))\n",
    "    # Let user choose a different path\n",
    "    file_path = input(\"Enter the correct path to the CSV file: \")\n",
    "\n",
    "if os.path.exists(file_path):\n",
    "    print(\"Loading the dataset...\")\n",
    "    df = pd.read_csv(file_path,\n",
    "                    usecols=columns_to_load,\n",
    "                    dtype=safe_dtypes,\n",
    "                    parse_dates=['CRASH DATE'])\n",
    "    \n",
    "    # Convert numeric columns properly after loading\n",
    "    df['NUMBER OF PERSONS INJURED'] = pd.to_numeric(df['NUMBER OF PERSONS INJURED'], errors='coerce').fillna(0).astype('int8')\n",
    "    df['NUMBER OF PERSONS KILLED'] = pd.to_numeric(df['NUMBER OF PERSONS KILLED'], errors='coerce').fillna(0).astype('int8')\n",
    "else:\n",
    "    print(\"Creating sample data for testing...\")\n",
    "    # Create dummy data\n",
    "    df = pd.DataFrame({\n",
    "        'CRASH DATE': pd.date_range('2020-01-01', periods=1000),\n",
    "        'CRASH TIME': pd.date_range('2020-01-01', periods=1000).time,\n",
    "        'BOROUGH': np.random.choice(['MANHATTAN', 'BROOKLYN', 'QUEENS', 'BRONX', 'STATEN ISLAND'], 1000),\n",
    "        'LATITUDE': np.random.uniform(40.5, 40.9, 1000),\n",
    "        'LONGITUDE': np.random.uniform(-74.03, -73.7, 1000),\n",
    "        'NUMBER OF PERSONS INJURED': np.random.randint(0, 5, 1000),\n",
    "        'NUMBER OF PERSONS KILLED': np.random.randint(0, 2, 1000),\n",
    "        'VEHICLE TYPE CODE 1': np.random.choice(['PASSENGER VEHICLE', 'TAXI', 'TRUCK', 'BUS', 'BICYCLE'], 1000),\n",
    "        'VEHICLE TYPE CODE 2': np.random.choice(['PASSENGER VEHICLE', 'TAXI', 'TRUCK', 'BUS', 'BICYCLE', None], 1000),\n",
    "        'CONTRIBUTING FACTOR VEHICLE 1': np.random.choice(['Driver Inattention', 'Following Too Closely', 'Failure to Yield', 'Speeding'], 1000),\n",
    "        'CONTRIBUTING FACTOR VEHICLE 2': np.random.choice(['Driver Inattention', 'Following Too Closely', 'Failure to Yield', 'Speeding', None], 1000)\n",
    "    })\n",
    "\n",
    "# Convert time strings to datetime.time objects\n",
    "df['CRASH TIME'] = pd.to_datetime(df['CRASH TIME'], errors='coerce').dt.time\n",
    "\n",
    "# Calculate severity (more memory efficient)\n",
    "conditions = [\n",
    "    df['NUMBER OF PERSONS KILLED'] > 0,\n",
    "    df['NUMBER OF PERSONS INJURED'] > 2,\n",
    "    df['NUMBER OF PERSONS INJURED'] > 0\n",
    "]\n",
    "choices = ['Fatal', 'Severe', 'Minor']\n",
    "df['SEVERITY'] = np.select(conditions, choices, default='Property Damage Only')\n",
    "\n",
    "# Drop rows with missing coordinates\n",
    "df = df.dropna(subset=['LATITUDE', 'LONGITUDE'])\n",
    "\n",
    "print(\"Dataset Shape:\", df.shape)\n",
    "print(\"\\nMemory usage:\", df.memory_usage().sum() / 1024**2, \"MB\")\n",
    "df.head()"
   ]
  }
 ],
 "metadata": {
  "kernelspec": {
   "display_name": "02806",
   "language": "python",
   "name": "python3"
  },
  "language_info": {
   "codemirror_mode": {
    "name": "ipython",
    "version": 3
   },
   "file_extension": ".py",
   "mimetype": "text/x-python",
   "name": "python",
   "nbconvert_exporter": "python",
   "pygments_lexer": "ipython3",
   "version": "3.13.2"
  }
 },
 "nbformat": 4,
 "nbformat_minor": 2
}
